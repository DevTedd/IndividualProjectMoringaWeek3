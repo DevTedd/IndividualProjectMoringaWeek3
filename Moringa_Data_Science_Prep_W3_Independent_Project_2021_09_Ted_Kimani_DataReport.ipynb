{
  "nbformat": 4,
  "nbformat_minor": 0,
  "metadata": {
    "colab": {
      "name": "Moringa_Data_Science_Prep_W3_Independent_Project_2021_09_Ted_Kimani_DataReport",
      "provenance": [],
      "collapsed_sections": [],
      "mount_file_id": "147--I8UvXvLQMoCB4yt0RwLkIPwcZEie",
      "authorship_tag": "ABX9TyO5dFe5SqTvKETnNmXAXkkl",
      "include_colab_link": true
    },
    "kernelspec": {
      "name": "python3",
      "display_name": "Python 3"
    },
    "language_info": {
      "name": "python"
    }
  },
  "cells": [
    {
      "cell_type": "markdown",
      "metadata": {
        "id": "view-in-github",
        "colab_type": "text"
      },
      "source": [
        "<a href=\"https://colab.research.google.com/github/DevTedd/IndividualProjectMoringaWeek3/blob/main/Moringa_Data_Science_Prep_W3_Independent_Project_2021_09_Ted_Kimani_DataReport.ipynb\" target=\"_parent\"><img src=\"https://colab.research.google.com/assets/colab-badge.svg\" alt=\"Open In Colab\"/></a>"
      ]
    },
    {
      "cell_type": "markdown",
      "metadata": {
        "id": "r9ZFz8PYGIje"
      },
      "source": [
        "# Friday: Independent Project - Week 3"
      ]
    },
    {
      "cell_type": "markdown",
      "metadata": {
        "id": "_EPlnjM1Fwed"
      },
      "source": [
        "In this week's independent project, you will be working as Data Scientist for MTN Cote d'Ivoire, a leading telecom company and you will be solving for the following research question.\n",
        "\n",
        "Currently MTN Cote d'Ivoire would like to upgrade its technology infrastructure for its mobile users in Ivory Coast. Studying the given dataset, how does MTN Cote d'Ivoire go about the upgrade of its infrastructure strategy within the given cities?\n",
        "\n",
        "Your final deliverable will be a Data Report which will comprise the following sections;\n",
        "\n",
        "\n"
      ]
    },
    {
      "cell_type": "markdown",
      "metadata": {
        "id": "8q9UmlXXGNE1"
      },
      "source": [
        "1.\tBusiness Understanding \n",
        "2.\tData Understanding \n",
        "3.\tData Preparation \n",
        "4.\tAnalysis \n",
        "5.\tRecommendation \n",
        "6.\tEvaluation\n"
      ]
    },
    {
      "cell_type": "markdown",
      "metadata": {
        "id": "PqGsj7OpGTzT"
      },
      "source": [
        "You can use the CRISP-DM methodology to guide you while working on the Data Report. Your Data Report will also need to have an objective account, with insights majorly coming from the dataset."
      ]
    },
    {
      "cell_type": "markdown",
      "metadata": {
        "id": "Yu3KAplPGyS1"
      },
      "source": [
        "# Importing libraries and datasets"
      ]
    },
    {
      "cell_type": "code",
      "metadata": {
        "id": "mUaiE9EFG3Qj"
      },
      "source": [
        "import pandas as pd\n",
        "# as well as the Numpy library\n",
        "import numpy as np"
      ],
      "execution_count": 2,
      "outputs": []
    },
    {
      "cell_type": "code",
      "metadata": {
        "colab": {
          "base_uri": "https://localhost:8080/"
        },
        "id": "iYaSRQSYG-Xl",
        "outputId": "a4ad6593-3eb2-4a5a-8610-785127dfc175"
      },
      "source": [
        "telcomDf1 = pd.read_csv('/content/drive/MyDrive/Individual Project Week 3/Telcom_dataset.csv')\n",
        "telcomDf1.head(5)\n",
        "telcomDf1.info()"
      ],
      "execution_count": 3,
      "outputs": [
        {
          "output_type": "stream",
          "name": "stdout",
          "text": [
            "<class 'pandas.core.frame.DataFrame'>\n",
            "RangeIndex: 5001 entries, 0 to 5000\n",
            "Data columns (total 10 columns):\n",
            " #   Column           Non-Null Count  Dtype \n",
            "---  ------           --------------  ----- \n",
            " 0   PRODUTC          5001 non-null   object\n",
            " 1   VALUE            5001 non-null   int64 \n",
            " 2   DATETIME         5001 non-null   object\n",
            " 3   CELL_ON_SITE     5001 non-null   object\n",
            " 4   DW_A_NUMBER_INT  5001 non-null   object\n",
            " 5   DW_B_NUMBER_INT  5001 non-null   object\n",
            " 6   COUNTRY_A        5001 non-null   object\n",
            " 7   COUNTRY_B        5001 non-null   object\n",
            " 8   CELL_ID          5001 non-null   object\n",
            " 9   SITE_ID          4285 non-null   object\n",
            "dtypes: int64(1), object(9)\n",
            "memory usage: 390.8+ KB\n"
          ]
        }
      ]
    },
    {
      "cell_type": "code",
      "metadata": {
        "colab": {
          "base_uri": "https://localhost:8080/",
          "height": 394
        },
        "id": "XQFPmV_IHtIj",
        "outputId": "5f5c15fe-0707-41ef-f278-c651f3e636b5"
      },
      "source": [
        "telcomDf2 = pd.read_csv('/content/drive/MyDrive/Individual Project Week 3/Telcom_dataset2.csv')\n",
        "telcomDf2.head(5)\n",
        "#telcomDf2.info()"
      ],
      "execution_count": 4,
      "outputs": [
        {
          "output_type": "execute_result",
          "data": {
            "text/html": [
              "<div>\n",
              "<style scoped>\n",
              "    .dataframe tbody tr th:only-of-type {\n",
              "        vertical-align: middle;\n",
              "    }\n",
              "\n",
              "    .dataframe tbody tr th {\n",
              "        vertical-align: top;\n",
              "    }\n",
              "\n",
              "    .dataframe thead th {\n",
              "        text-align: right;\n",
              "    }\n",
              "</style>\n",
              "<table border=\"1\" class=\"dataframe\">\n",
              "  <thead>\n",
              "    <tr style=\"text-align: right;\">\n",
              "      <th></th>\n",
              "      <th>PRODUCT</th>\n",
              "      <th>VALUE</th>\n",
              "      <th>DATE_TIME</th>\n",
              "      <th>CELL_ON_SITE</th>\n",
              "      <th>DW_A_NUMBER</th>\n",
              "      <th>DW_B_NUMBER</th>\n",
              "      <th>COUNTRY_A</th>\n",
              "      <th>COUNTRY_B</th>\n",
              "      <th>CELL_ID</th>\n",
              "      <th>SITE_ID</th>\n",
              "    </tr>\n",
              "  </thead>\n",
              "  <tbody>\n",
              "    <tr>\n",
              "      <th>0</th>\n",
              "      <td>sms</td>\n",
              "      <td>0</td>\n",
              "      <td>2012-05-07 23:02:06.0</td>\n",
              "      <td>2</td>\n",
              "      <td>32255675c3b6fe3</td>\n",
              "      <td>1aa7ae01386e9fb</td>\n",
              "      <td>19e2e</td>\n",
              "      <td>19e2e</td>\n",
              "      <td>+854AcBQT2</td>\n",
              "      <td>+854AcBQT2</td>\n",
              "    </tr>\n",
              "    <tr>\n",
              "      <th>1</th>\n",
              "      <td>Voice</td>\n",
              "      <td>0</td>\n",
              "      <td>2012-05-07 23:03:44.0</td>\n",
              "      <td>1</td>\n",
              "      <td>ff16d6ac74c1c64</td>\n",
              "      <td>87d87309c15a8c9</td>\n",
              "      <td>19e2e</td>\n",
              "      <td>19e2e</td>\n",
              "      <td>+854AcBQT2</td>\n",
              "      <td>+854AcBQT2</td>\n",
              "    </tr>\n",
              "    <tr>\n",
              "      <th>2</th>\n",
              "      <td>sms</td>\n",
              "      <td>0</td>\n",
              "      <td>2012-05-07 23:04:06.0</td>\n",
              "      <td>0</td>\n",
              "      <td>98d9f2fb5ff624b</td>\n",
              "      <td>93343ba6e41af95</td>\n",
              "      <td>19e2e</td>\n",
              "      <td>19e2e</td>\n",
              "      <td>+laSrk7g6q</td>\n",
              "      <td>+laSrk7g6q</td>\n",
              "    </tr>\n",
              "    <tr>\n",
              "      <th>3</th>\n",
              "      <td>Voice</td>\n",
              "      <td>37</td>\n",
              "      <td>2012-05-07 23:04:48.0</td>\n",
              "      <td>1</td>\n",
              "      <td>3f9c8a33ec7be1f</td>\n",
              "      <td>7d05a38f89c49d8</td>\n",
              "      <td>19e2e</td>\n",
              "      <td>19e2e</td>\n",
              "      <td>/xvRrCVKoQ</td>\n",
              "      <td>/xvRrCVKoQ</td>\n",
              "    </tr>\n",
              "    <tr>\n",
              "      <th>4</th>\n",
              "      <td>sms</td>\n",
              "      <td>25</td>\n",
              "      <td>2012-05-07 23:04:58.0</td>\n",
              "      <td>1</td>\n",
              "      <td>7bcccc03adf3864</td>\n",
              "      <td>56a5d5430d2fa86</td>\n",
              "      <td>19e2e</td>\n",
              "      <td>19e2e</td>\n",
              "      <td>+bO+qkSonO</td>\n",
              "      <td>+bO+qkSonO</td>\n",
              "    </tr>\n",
              "  </tbody>\n",
              "</table>\n",
              "</div>"
            ],
            "text/plain": [
              "  PRODUCT  VALUE              DATE_TIME  ... COUNTRY_B     CELL_ID     SITE_ID\n",
              "0     sms      0  2012-05-07 23:02:06.0  ...     19e2e  +854AcBQT2  +854AcBQT2\n",
              "1   Voice      0  2012-05-07 23:03:44.0  ...     19e2e  +854AcBQT2  +854AcBQT2\n",
              "2     sms      0  2012-05-07 23:04:06.0  ...     19e2e  +laSrk7g6q  +laSrk7g6q\n",
              "3   Voice     37  2012-05-07 23:04:48.0  ...     19e2e  /xvRrCVKoQ  /xvRrCVKoQ\n",
              "4     sms     25  2012-05-07 23:04:58.0  ...     19e2e  +bO+qkSonO  +bO+qkSonO\n",
              "\n",
              "[5 rows x 10 columns]"
            ]
          },
          "metadata": {},
          "execution_count": 4
        }
      ]
    },
    {
      "cell_type": "code",
      "metadata": {
        "colab": {
          "base_uri": "https://localhost:8080/"
        },
        "id": "O1jtIeMvH7yu",
        "outputId": "d51053b4-641a-445e-bec5-daf563d5ae22"
      },
      "source": [
        "telcomDf3 = pd.read_csv('/content/drive/MyDrive/Individual Project Week 3/Telcom_dataset3.csv')\n",
        "telcomDf3.shape"
      ],
      "execution_count": 67,
      "outputs": [
        {
          "output_type": "execute_result",
          "data": {
            "text/plain": [
              "(5001, 10)"
            ]
          },
          "metadata": {},
          "execution_count": 67
        }
      ]
    },
    {
      "cell_type": "code",
      "metadata": {
        "colab": {
          "base_uri": "https://localhost:8080/"
        },
        "id": "n9HtaCfJIDj7",
        "outputId": "906aa30e-1d5c-46f0-de6b-d5952a788cce"
      },
      "source": [
        "cellsGeo = pd.read_csv('/content/drive/MyDrive/Individual Project Week 3/cells_geo.csv', sep=';')\n",
        "cellsGeo.info()"
      ],
      "execution_count": 66,
      "outputs": [
        {
          "output_type": "stream",
          "name": "stdout",
          "text": [
            "<class 'pandas.core.frame.DataFrame'>\n",
            "RangeIndex: 3974 entries, 0 to 3973\n",
            "Data columns (total 12 columns):\n",
            " #   Column        Non-Null Count  Dtype  \n",
            "---  ------        --------------  -----  \n",
            " 0   Unnamed: 0    3974 non-null   int64  \n",
            " 1   VILLES        3974 non-null   object \n",
            " 2   STATUS        3907 non-null   object \n",
            " 3   LOCALISATION  3974 non-null   object \n",
            " 4   DECOUPZONE    3974 non-null   object \n",
            " 5   ZONENAME      3968 non-null   object \n",
            " 6   LONGITUDE     3974 non-null   float64\n",
            " 7   LATITUDE      3974 non-null   float64\n",
            " 8   REGION        3974 non-null   object \n",
            " 9   AREA          3951 non-null   object \n",
            " 10  CELL_ID       3974 non-null   object \n",
            " 11  SITE_CODE     3974 non-null   object \n",
            "dtypes: float64(2), int64(1), object(9)\n",
            "memory usage: 372.7+ KB\n"
          ]
        }
      ]
    },
    {
      "cell_type": "code",
      "metadata": {
        "colab": {
          "base_uri": "https://localhost:8080/"
        },
        "id": "l51bmi4obkkq",
        "outputId": "f15deb07-3562-4418-892b-d6ea1d955374"
      },
      "source": [
        "#Theres 2 types of localization, within Abidjan and the Interiror \n",
        "B = cellsGeo.LOCALISATION.unique()\n",
        "B\n"
      ],
      "execution_count": null,
      "outputs": [
        {
          "output_type": "execute_result",
          "data": {
            "text/plain": [
              "array(['ABIDJAN', 'INTERIEUR'], dtype=object)"
            ]
          },
          "metadata": {},
          "execution_count": 45
        }
      ]
    },
    {
      "cell_type": "code",
      "metadata": {
        "colab": {
          "base_uri": "https://localhost:8080/",
          "height": 359
        },
        "id": "a2LlyiFWINtM",
        "outputId": "563bd15c-ba75-43d0-c293-83dfbc4897fc"
      },
      "source": [
        "cdrDescrip = pd.read_excel('/content/drive/MyDrive/Individual Project Week 3/CDR_description.xlsx')\n",
        "cdrDescrip\n"
      ],
      "execution_count": 7,
      "outputs": [
        {
          "output_type": "execute_result",
          "data": {
            "text/html": [
              "<div>\n",
              "<style scoped>\n",
              "    .dataframe tbody tr th:only-of-type {\n",
              "        vertical-align: middle;\n",
              "    }\n",
              "\n",
              "    .dataframe tbody tr th {\n",
              "        vertical-align: top;\n",
              "    }\n",
              "\n",
              "    .dataframe thead th {\n",
              "        text-align: right;\n",
              "    }\n",
              "</style>\n",
              "<table border=\"1\" class=\"dataframe\">\n",
              "  <thead>\n",
              "    <tr style=\"text-align: right;\">\n",
              "      <th></th>\n",
              "      <th>Column name</th>\n",
              "      <th>Description</th>\n",
              "      <th>Format</th>\n",
              "    </tr>\n",
              "  </thead>\n",
              "  <tbody>\n",
              "    <tr>\n",
              "      <th>0</th>\n",
              "      <td>PRODUCT</td>\n",
              "      <td>Voice or SMS</td>\n",
              "      <td>String</td>\n",
              "    </tr>\n",
              "    <tr>\n",
              "      <th>1</th>\n",
              "      <td>VALUE</td>\n",
              "      <td>Billing price</td>\n",
              "      <td>Integer</td>\n",
              "    </tr>\n",
              "    <tr>\n",
              "      <th>2</th>\n",
              "      <td>DATE_TIME</td>\n",
              "      <td>Time in format yyyy-MM-dd hh:mm:ss.0</td>\n",
              "      <td>String</td>\n",
              "    </tr>\n",
              "    <tr>\n",
              "      <th>3</th>\n",
              "      <td>CELL_ON_SITE</td>\n",
              "      <td>Which cell in the site was used (not needed here)</td>\n",
              "      <td>Integer</td>\n",
              "    </tr>\n",
              "    <tr>\n",
              "      <th>4</th>\n",
              "      <td>DW_A_NUMBER_INT</td>\n",
              "      <td>Anonymized phone number of the person for whic...</td>\n",
              "      <td>String</td>\n",
              "    </tr>\n",
              "    <tr>\n",
              "      <th>5</th>\n",
              "      <td>DW_B_NUMBER_INT</td>\n",
              "      <td>Anonymized phone number of the counterparty</td>\n",
              "      <td>String</td>\n",
              "    </tr>\n",
              "    <tr>\n",
              "      <th>6</th>\n",
              "      <td>COUNTRY_A</td>\n",
              "      <td>Country of party A (useless here)</td>\n",
              "      <td>String</td>\n",
              "    </tr>\n",
              "    <tr>\n",
              "      <th>7</th>\n",
              "      <td>COUNTRY_B</td>\n",
              "      <td>Country of party B (useless here)</td>\n",
              "      <td>String</td>\n",
              "    </tr>\n",
              "    <tr>\n",
              "      <th>8</th>\n",
              "      <td>CELL_ID</td>\n",
              "      <td>ID of the cell</td>\n",
              "      <td>String</td>\n",
              "    </tr>\n",
              "    <tr>\n",
              "      <th>9</th>\n",
              "      <td>SITE_ID</td>\n",
              "      <td>ID of the SITE</td>\n",
              "      <td>String</td>\n",
              "    </tr>\n",
              "  </tbody>\n",
              "</table>\n",
              "</div>"
            ],
            "text/plain": [
              "       Column name                                        Description   Format\n",
              "0          PRODUCT                                       Voice or SMS   String\n",
              "1            VALUE                                      Billing price  Integer\n",
              "2        DATE_TIME               Time in format yyyy-MM-dd hh:mm:ss.0   String\n",
              "3     CELL_ON_SITE  Which cell in the site was used (not needed here)  Integer\n",
              "4  DW_A_NUMBER_INT  Anonymized phone number of the person for whic...   String\n",
              "5  DW_B_NUMBER_INT        Anonymized phone number of the counterparty   String\n",
              "6        COUNTRY_A                  Country of party A (useless here)   String\n",
              "7        COUNTRY_B                  Country of party B (useless here)   String\n",
              "8          CELL_ID                                     ID of the cell   String\n",
              "9          SITE_ID                                     ID of the SITE   String"
            ]
          },
          "metadata": {},
          "execution_count": 7
        }
      ]
    },
    {
      "cell_type": "code",
      "metadata": {
        "colab": {
          "base_uri": "https://localhost:8080/",
          "height": 390
        },
        "id": "-gs8t04gIfwl",
        "outputId": "92be893a-92f1-4ca4-8379-1e70f326b796"
      },
      "source": [
        "cellsDescrip = pd.read_excel('/content/drive/MyDrive/Individual Project Week 3/cells_geo_description.xlsx')\n",
        "cellsDescrip"
      ],
      "execution_count": 8,
      "outputs": [
        {
          "output_type": "execute_result",
          "data": {
            "text/html": [
              "<div>\n",
              "<style scoped>\n",
              "    .dataframe tbody tr th:only-of-type {\n",
              "        vertical-align: middle;\n",
              "    }\n",
              "\n",
              "    .dataframe tbody tr th {\n",
              "        vertical-align: top;\n",
              "    }\n",
              "\n",
              "    .dataframe thead th {\n",
              "        text-align: right;\n",
              "    }\n",
              "</style>\n",
              "<table border=\"1\" class=\"dataframe\">\n",
              "  <thead>\n",
              "    <tr style=\"text-align: right;\">\n",
              "      <th></th>\n",
              "      <th>Column name</th>\n",
              "      <th>Description</th>\n",
              "      <th>Format</th>\n",
              "    </tr>\n",
              "  </thead>\n",
              "  <tbody>\n",
              "    <tr>\n",
              "      <th>0</th>\n",
              "      <td>VILLES</td>\n",
              "      <td>City</td>\n",
              "      <td>String</td>\n",
              "    </tr>\n",
              "    <tr>\n",
              "      <th>1</th>\n",
              "      <td>STATUS</td>\n",
              "      <td>In Service or not</td>\n",
              "      <td>String</td>\n",
              "    </tr>\n",
              "    <tr>\n",
              "      <th>2</th>\n",
              "      <td>LOCALISATION</td>\n",
              "      <td>in ABIDJAN or not</td>\n",
              "      <td>String</td>\n",
              "    </tr>\n",
              "    <tr>\n",
              "      <th>3</th>\n",
              "      <td>DECOUPZONE</td>\n",
              "      <td>Geographical Zone</td>\n",
              "      <td>String</td>\n",
              "    </tr>\n",
              "    <tr>\n",
              "      <th>4</th>\n",
              "      <td>ZONENAME</td>\n",
              "      <td>Name of Zone</td>\n",
              "      <td>String</td>\n",
              "    </tr>\n",
              "    <tr>\n",
              "      <th>5</th>\n",
              "      <td>LONGITUDE</td>\n",
              "      <td>Longitude</td>\n",
              "      <td>Float</td>\n",
              "    </tr>\n",
              "    <tr>\n",
              "      <th>6</th>\n",
              "      <td>LATITUDE</td>\n",
              "      <td>Latitude</td>\n",
              "      <td>Float</td>\n",
              "    </tr>\n",
              "    <tr>\n",
              "      <th>7</th>\n",
              "      <td>REGION</td>\n",
              "      <td>Region</td>\n",
              "      <td>String</td>\n",
              "    </tr>\n",
              "    <tr>\n",
              "      <th>8</th>\n",
              "      <td>AREA</td>\n",
              "      <td>Area</td>\n",
              "      <td>String</td>\n",
              "    </tr>\n",
              "    <tr>\n",
              "      <th>9</th>\n",
              "      <td>CELL_ID</td>\n",
              "      <td>ID of the cell</td>\n",
              "      <td>String</td>\n",
              "    </tr>\n",
              "    <tr>\n",
              "      <th>10</th>\n",
              "      <td>SITE_CODE</td>\n",
              "      <td>Site (there are several cells per site, severa...</td>\n",
              "      <td>String</td>\n",
              "    </tr>\n",
              "  </tbody>\n",
              "</table>\n",
              "</div>"
            ],
            "text/plain": [
              "     Column name                                        Description  Format\n",
              "0         VILLES                                               City  String\n",
              "1         STATUS                                  In Service or not  String\n",
              "2   LOCALISATION                                  in ABIDJAN or not  String\n",
              "3     DECOUPZONE                                  Geographical Zone  String\n",
              "4       ZONENAME                                       Name of Zone  String\n",
              "5      LONGITUDE                                          Longitude   Float\n",
              "6       LATITUDE                                           Latitude   Float\n",
              "7         REGION                                             Region  String\n",
              "8           AREA                                               Area  String\n",
              "9        CELL_ID                                     ID of the cell  String\n",
              "10     SITE_CODE  Site (there are several cells per site, severa...  String"
            ]
          },
          "metadata": {},
          "execution_count": 8
        }
      ]
    },
    {
      "cell_type": "markdown",
      "metadata": {
        "id": "9oimLz-RW40M"
      },
      "source": [
        "We will begin by finding out the number of cities in out data set cellsGeo"
      ]
    },
    {
      "cell_type": "code",
      "metadata": {
        "colab": {
          "base_uri": "https://localhost:8080/"
        },
        "id": "Z_LYZ4ZQXCWb",
        "outputId": "2ee95446-dbe3-48f7-e3fb-4abe6e339f37"
      },
      "source": [
        "#This shows us there is around 504 cities, with is quite large\n",
        "cities = cellsGeo['VILLES'].drop_duplicates()\n",
        "cities.count()\n"
      ],
      "execution_count": 9,
      "outputs": [
        {
          "output_type": "execute_result",
          "data": {
            "text/plain": [
              "504"
            ]
          },
          "metadata": {},
          "execution_count": 9
        }
      ]
    },
    {
      "cell_type": "code",
      "metadata": {
        "colab": {
          "base_uri": "https://localhost:8080/"
        },
        "id": "lCw2_0cZXae4",
        "outputId": "368bd81d-7aaa-4aff-8753-7f8c48deee7e"
      },
      "source": [
        "#We know look for the number of unique geographical zones, which are alot less compared to number of cites\n",
        "geoZones = cellsGeo['DECOUPZONE'].drop_duplicates()\n",
        "geoZones\n",
        "\n"
      ],
      "execution_count": null,
      "outputs": [
        {
          "output_type": "execute_result",
          "data": {
            "text/plain": [
              "0          \"Abidjan_EST\n",
              "3             Grand-EST\n",
              "6           Grand-OUEST\n",
              "7         \"Abidjan_NORD\n",
              "18      \"Abidjan_CENTRE\n",
              "23         Abidjan_NORD\n",
              "35          Abidjan_EST\n",
              "122       Abidjan_OUEST\n",
              "180           Grand-SUD\n",
              "216           SUD-OUEST\n",
              "249      Abidjan_CENTRE\n",
              "271         Abidjan_SUD\n",
              "372          Grand-NORD\n",
              "788          Gd-ABIDJAN\n",
              "1559                  0\n",
              "Name: DECOUPZONE, dtype: object"
            ]
          },
          "metadata": {},
          "execution_count": 26
        }
      ]
    },
    {
      "cell_type": "code",
      "metadata": {
        "colab": {
          "base_uri": "https://localhost:8080/",
          "height": 807
        },
        "id": "Q8qE4R9AYI3T",
        "outputId": "72e5e296-526e-47e9-975a-bcc60569ee4b"
      },
      "source": [
        "#We will group the data into Regions and cities. The regions are a good place to start \n",
        "B = cellsGeo.REGION.unique()\n",
        "B\n",
        "geoZonesGroup = cellsGeo.groupby(['VILLES','REGION'])\n",
        "geoZonesGroup.first()\n",
        "#Not much can be gained from this"
      ],
      "execution_count": null,
      "outputs": [
        {
          "output_type": "execute_result",
          "data": {
            "text/html": [
              "<div>\n",
              "<style scoped>\n",
              "    .dataframe tbody tr th:only-of-type {\n",
              "        vertical-align: middle;\n",
              "    }\n",
              "\n",
              "    .dataframe tbody tr th {\n",
              "        vertical-align: top;\n",
              "    }\n",
              "\n",
              "    .dataframe thead th {\n",
              "        text-align: right;\n",
              "    }\n",
              "</style>\n",
              "<table border=\"1\" class=\"dataframe\">\n",
              "  <thead>\n",
              "    <tr style=\"text-align: right;\">\n",
              "      <th></th>\n",
              "      <th></th>\n",
              "      <th>Unnamed: 0</th>\n",
              "      <th>STATUS</th>\n",
              "      <th>LOCALISATION</th>\n",
              "      <th>DECOUPZONE</th>\n",
              "      <th>ZONENAME</th>\n",
              "      <th>LONGITUDE</th>\n",
              "      <th>LATITUDE</th>\n",
              "      <th>AREA</th>\n",
              "      <th>CELL_ID</th>\n",
              "      <th>SITE_CODE</th>\n",
              "    </tr>\n",
              "    <tr>\n",
              "      <th>VILLES</th>\n",
              "      <th>REGION</th>\n",
              "      <th></th>\n",
              "      <th></th>\n",
              "      <th></th>\n",
              "      <th></th>\n",
              "      <th></th>\n",
              "      <th></th>\n",
              "      <th></th>\n",
              "      <th></th>\n",
              "      <th></th>\n",
              "      <th></th>\n",
              "    </tr>\n",
              "  </thead>\n",
              "  <tbody>\n",
              "    <tr>\n",
              "      <th>ABENGOUROU</th>\n",
              "      <th>MOYEN COMOE</th>\n",
              "      <td>44</td>\n",
              "      <td>In Service</td>\n",
              "      <td>INTERIEUR</td>\n",
              "      <td>Grand-EST</td>\n",
              "      <td>ZONE C - Grand-EST</td>\n",
              "      <td>-3.514833</td>\n",
              "      <td>6.722333</td>\n",
              "      <td>EAST</td>\n",
              "      <td>8cdfc1bc65</td>\n",
              "      <td>6e87d6cb59</td>\n",
              "    </tr>\n",
              "    <tr>\n",
              "      <th>ABOBO</th>\n",
              "      <th>LAGUNE</th>\n",
              "      <td>7</td>\n",
              "      <td>In Service</td>\n",
              "      <td>ABIDJAN</td>\n",
              "      <td>\"Abidjan_NORD</td>\n",
              "      <td>NPONON</td>\n",
              "      <td>-4.023583</td>\n",
              "      <td>5.435694</td>\n",
              "      <td>ABIDJAN NORTH</td>\n",
              "      <td>a70c1d263b</td>\n",
              "      <td>56306cc7ca</td>\n",
              "    </tr>\n",
              "    <tr>\n",
              "      <th>ABOISSO</th>\n",
              "      <th>SUD COMOE</th>\n",
              "      <td>158</td>\n",
              "      <td>In Service</td>\n",
              "      <td>INTERIEUR</td>\n",
              "      <td>Grand-EST</td>\n",
              "      <td>ZONE C - Grand-EST</td>\n",
              "      <td>-0.000000</td>\n",
              "      <td>0.000000</td>\n",
              "      <td>ABIDJAN SOUTH</td>\n",
              "      <td>b4d8c16d9e</td>\n",
              "      <td>38c5c1de07</td>\n",
              "    </tr>\n",
              "    <tr>\n",
              "      <th>ABOISSO COMOE</th>\n",
              "      <th>LAGUNE</th>\n",
              "      <td>155</td>\n",
              "      <td>In Service</td>\n",
              "      <td>INTERIEUR</td>\n",
              "      <td>Grand-EST</td>\n",
              "      <td>ZONE C - Grand-EST</td>\n",
              "      <td>-3.396861</td>\n",
              "      <td>5.734500</td>\n",
              "      <td>ABIDJAN NORTH</td>\n",
              "      <td>ff4372eafb</td>\n",
              "      <td>640427c4c9</td>\n",
              "    </tr>\n",
              "    <tr>\n",
              "      <th>ABONGOUA</th>\n",
              "      <th>MOYEN COMOE</th>\n",
              "      <td>177</td>\n",
              "      <td>In Service</td>\n",
              "      <td>INTERIEUR</td>\n",
              "      <td>Grand-EST</td>\n",
              "      <td>ZONE C - Grand-EST</td>\n",
              "      <td>-3.548722</td>\n",
              "      <td>6.247083</td>\n",
              "      <td>EAST</td>\n",
              "      <td>d1a1270467</td>\n",
              "      <td>a8d8462dda</td>\n",
              "    </tr>\n",
              "    <tr>\n",
              "      <th>...</th>\n",
              "      <th>...</th>\n",
              "      <td>...</td>\n",
              "      <td>...</td>\n",
              "      <td>...</td>\n",
              "      <td>...</td>\n",
              "      <td>...</td>\n",
              "      <td>...</td>\n",
              "      <td>...</td>\n",
              "      <td>...</td>\n",
              "      <td>...</td>\n",
              "      <td>...</td>\n",
              "    </tr>\n",
              "    <tr>\n",
              "      <th>ZATTA</th>\n",
              "      <th>LACS</th>\n",
              "      <td>3941</td>\n",
              "      <td>In Service</td>\n",
              "      <td>INTERIEUR</td>\n",
              "      <td>Grand-NORD</td>\n",
              "      <td>ZONE B - Grand-NORD</td>\n",
              "      <td>-5.415614</td>\n",
              "      <td>6.905422</td>\n",
              "      <td>CENTRE NORTH</td>\n",
              "      <td>1d41c565fc</td>\n",
              "      <td>c644d1ce4c</td>\n",
              "    </tr>\n",
              "    <tr>\n",
              "      <th>ZIKISSO</th>\n",
              "      <th>SUD BANDAMA</th>\n",
              "      <td>3944</td>\n",
              "      <td>In Service</td>\n",
              "      <td>INTERIEUR</td>\n",
              "      <td>Grand-SUD</td>\n",
              "      <td>ZONE B - Grand-SUD</td>\n",
              "      <td>-5.698833</td>\n",
              "      <td>6.057278</td>\n",
              "      <td>SOUTH WEST</td>\n",
              "      <td>733df73327</td>\n",
              "      <td>211015b14d</td>\n",
              "    </tr>\n",
              "    <tr>\n",
              "      <th>ZON-HOUNIEN</th>\n",
              "      <th>18 MONTAGNES</th>\n",
              "      <td>3960</td>\n",
              "      <td>In Service</td>\n",
              "      <td>INTERIEUR</td>\n",
              "      <td>Grand-OUEST</td>\n",
              "      <td>ZONE D - Grand-OUEST</td>\n",
              "      <td>-8.205167</td>\n",
              "      <td>6.920500</td>\n",
              "      <td>NORTH WEST</td>\n",
              "      <td>a3e5534191</td>\n",
              "      <td>32b8357a82</td>\n",
              "    </tr>\n",
              "    <tr>\n",
              "      <th>ZOUKOUGBEU</th>\n",
              "      <th>HAUT SASSANDRA</th>\n",
              "      <td>3963</td>\n",
              "      <td>In Service</td>\n",
              "      <td>INTERIEUR</td>\n",
              "      <td>Grand-OUEST</td>\n",
              "      <td>ZONE D - Grand-OUEST</td>\n",
              "      <td>-6.865694</td>\n",
              "      <td>6.761306</td>\n",
              "      <td>NORTH WEST</td>\n",
              "      <td>317ba2e3e8</td>\n",
              "      <td>443ac3fc19</td>\n",
              "    </tr>\n",
              "    <tr>\n",
              "      <th>ZUENOULA</th>\n",
              "      <th>MARAHOUE</th>\n",
              "      <td>3382</td>\n",
              "      <td>In Service</td>\n",
              "      <td>INTERIEUR</td>\n",
              "      <td>Grand-NORD</td>\n",
              "      <td>ZONE A - Grand-NORD</td>\n",
              "      <td>-6.138956</td>\n",
              "      <td>7.617553</td>\n",
              "      <td>CENTRE NORTH</td>\n",
              "      <td>8cde542067</td>\n",
              "      <td>43adae9a57</td>\n",
              "    </tr>\n",
              "  </tbody>\n",
              "</table>\n",
              "<p>508 rows × 10 columns</p>\n",
              "</div>"
            ],
            "text/plain": [
              "                              Unnamed: 0      STATUS  ...     CELL_ID   SITE_CODE\n",
              "VILLES        REGION                                  ...                        \n",
              "ABENGOUROU    MOYEN COMOE             44  In Service  ...  8cdfc1bc65  6e87d6cb59\n",
              "ABOBO         LAGUNE                   7  In Service  ...  a70c1d263b  56306cc7ca\n",
              "ABOISSO       SUD COMOE              158  In Service  ...  b4d8c16d9e  38c5c1de07\n",
              "ABOISSO COMOE LAGUNE                 155  In Service  ...  ff4372eafb  640427c4c9\n",
              "ABONGOUA      MOYEN COMOE            177  In Service  ...  d1a1270467  a8d8462dda\n",
              "...                                  ...         ...  ...         ...         ...\n",
              "ZATTA         LACS                  3941  In Service  ...  1d41c565fc  c644d1ce4c\n",
              "ZIKISSO       SUD BANDAMA           3944  In Service  ...  733df73327  211015b14d\n",
              "ZON-HOUNIEN   18 MONTAGNES          3960  In Service  ...  a3e5534191  32b8357a82\n",
              "ZOUKOUGBEU    HAUT SASSANDRA        3963  In Service  ...  317ba2e3e8  443ac3fc19\n",
              "ZUENOULA      MARAHOUE              3382  In Service  ...  8cde542067  43adae9a57\n",
              "\n",
              "[508 rows x 10 columns]"
            ]
          },
          "metadata": {},
          "execution_count": 42
        }
      ]
    },
    {
      "cell_type": "code",
      "metadata": {
        "colab": {
          "base_uri": "https://localhost:8080/",
          "height": 179
        },
        "id": "WVPhvMFkY5VI",
        "outputId": "e34e4e38-4f76-487e-a8be-75c5b4a09952"
      },
      "source": [
        "localZones = cellsGeo.groupby(['LOCALISATION'])\n",
        "localZones.count()"
      ],
      "execution_count": 10,
      "outputs": [
        {
          "output_type": "execute_result",
          "data": {
            "text/html": [
              "<div>\n",
              "<style scoped>\n",
              "    .dataframe tbody tr th:only-of-type {\n",
              "        vertical-align: middle;\n",
              "    }\n",
              "\n",
              "    .dataframe tbody tr th {\n",
              "        vertical-align: top;\n",
              "    }\n",
              "\n",
              "    .dataframe thead th {\n",
              "        text-align: right;\n",
              "    }\n",
              "</style>\n",
              "<table border=\"1\" class=\"dataframe\">\n",
              "  <thead>\n",
              "    <tr style=\"text-align: right;\">\n",
              "      <th></th>\n",
              "      <th>Unnamed: 0</th>\n",
              "      <th>VILLES</th>\n",
              "      <th>STATUS</th>\n",
              "      <th>DECOUPZONE</th>\n",
              "      <th>ZONENAME</th>\n",
              "      <th>LONGITUDE</th>\n",
              "      <th>LATITUDE</th>\n",
              "      <th>REGION</th>\n",
              "      <th>AREA</th>\n",
              "      <th>CELL_ID</th>\n",
              "      <th>SITE_CODE</th>\n",
              "    </tr>\n",
              "    <tr>\n",
              "      <th>LOCALISATION</th>\n",
              "      <th></th>\n",
              "      <th></th>\n",
              "      <th></th>\n",
              "      <th></th>\n",
              "      <th></th>\n",
              "      <th></th>\n",
              "      <th></th>\n",
              "      <th></th>\n",
              "      <th></th>\n",
              "      <th></th>\n",
              "      <th></th>\n",
              "    </tr>\n",
              "  </thead>\n",
              "  <tbody>\n",
              "    <tr>\n",
              "      <th>ABIDJAN</th>\n",
              "      <td>1669</td>\n",
              "      <td>1669</td>\n",
              "      <td>1636</td>\n",
              "      <td>1669</td>\n",
              "      <td>1669</td>\n",
              "      <td>1669</td>\n",
              "      <td>1669</td>\n",
              "      <td>1669</td>\n",
              "      <td>1650</td>\n",
              "      <td>1669</td>\n",
              "      <td>1669</td>\n",
              "    </tr>\n",
              "    <tr>\n",
              "      <th>INTERIEUR</th>\n",
              "      <td>2305</td>\n",
              "      <td>2305</td>\n",
              "      <td>2271</td>\n",
              "      <td>2305</td>\n",
              "      <td>2299</td>\n",
              "      <td>2305</td>\n",
              "      <td>2305</td>\n",
              "      <td>2305</td>\n",
              "      <td>2301</td>\n",
              "      <td>2305</td>\n",
              "      <td>2305</td>\n",
              "    </tr>\n",
              "  </tbody>\n",
              "</table>\n",
              "</div>"
            ],
            "text/plain": [
              "              Unnamed: 0  VILLES  STATUS  ...  AREA  CELL_ID  SITE_CODE\n",
              "LOCALISATION                              ...                          \n",
              "ABIDJAN             1669    1669    1636  ...  1650     1669       1669\n",
              "INTERIEUR           2305    2305    2271  ...  2301     2305       2305\n",
              "\n",
              "[2 rows x 11 columns]"
            ]
          },
          "metadata": {},
          "execution_count": 10
        }
      ]
    },
    {
      "cell_type": "markdown",
      "metadata": {
        "id": "S6HrztsNf1On"
      },
      "source": [
        "From this we can see that the netork can be divided into 2 localizatios, with most cities and cellphones at 2305 are outside Abidjan with 1669 left inside\n",
        "\n",
        "# We will now merge the three days data with the geographical data"
      ]
    },
    {
      "cell_type": "code",
      "metadata": {
        "colab": {
          "base_uri": "https://localhost:8080/",
          "height": 796
        },
        "id": "g6MPDvsUrEPh",
        "outputId": "0d363488-c4c9-4455-9307-f1547eb89c34"
      },
      "source": [
        "#This is the first days telcom data\n",
        "dayOne_A = telcomDf1\n",
        "dayOne_A = dayOne_A.drop_duplicates()\n",
        "\n",
        "\n",
        "\n",
        "dayOne_Loc = cellsGeo\n",
        "dayOne_Loc = dayOne_Loc.drop_duplicates()\n",
        "dayOne_combines = pd.merge(dayOne_A,dayOne_Loc, left_on='SITE_ID', right_on='SITE_CODE')\n",
        "\n",
        "dayOne_combinesValue = dayOne_combines['VALUE'].sum()\n",
        "\n",
        "dayOne_combines#the entire combined data set\n",
        "#dayOne_Av#The one wthout rows of no value\n",
        "#dayOne_combines['VALUE'].median()\n",
        "#dayOne_combines['VALUE'].var()\n",
        "#dayOne_combines .corr()\n"
      ],
      "execution_count": 32,
      "outputs": [
        {
          "output_type": "execute_result",
          "data": {
            "text/html": [
              "<div>\n",
              "<style scoped>\n",
              "    .dataframe tbody tr th:only-of-type {\n",
              "        vertical-align: middle;\n",
              "    }\n",
              "\n",
              "    .dataframe tbody tr th {\n",
              "        vertical-align: top;\n",
              "    }\n",
              "\n",
              "    .dataframe thead th {\n",
              "        text-align: right;\n",
              "    }\n",
              "</style>\n",
              "<table border=\"1\" class=\"dataframe\">\n",
              "  <thead>\n",
              "    <tr style=\"text-align: right;\">\n",
              "      <th></th>\n",
              "      <th>PRODUTC</th>\n",
              "      <th>VALUE</th>\n",
              "      <th>DATETIME</th>\n",
              "      <th>CELL_ON_SITE</th>\n",
              "      <th>DW_A_NUMBER_INT</th>\n",
              "      <th>DW_B_NUMBER_INT</th>\n",
              "      <th>COUNTRY_A</th>\n",
              "      <th>COUNTRY_B</th>\n",
              "      <th>CELL_ID_x</th>\n",
              "      <th>SITE_ID</th>\n",
              "      <th>Unnamed: 0</th>\n",
              "      <th>VILLES</th>\n",
              "      <th>STATUS</th>\n",
              "      <th>LOCALISATION</th>\n",
              "      <th>DECOUPZONE</th>\n",
              "      <th>ZONENAME</th>\n",
              "      <th>LONGITUDE</th>\n",
              "      <th>LATITUDE</th>\n",
              "      <th>REGION</th>\n",
              "      <th>AREA</th>\n",
              "      <th>CELL_ID_y</th>\n",
              "      <th>SITE_CODE</th>\n",
              "    </tr>\n",
              "  </thead>\n",
              "  <tbody>\n",
              "    <tr>\n",
              "      <th>0</th>\n",
              "      <td>sms</td>\n",
              "      <td>0</td>\n",
              "      <td>2012-05-07 00:00:00.0</td>\n",
              "      <td>1</td>\n",
              "      <td>8118c3aa53d6c7b</td>\n",
              "      <td>1d103ea638ad1f0</td>\n",
              "      <td>19e2e</td>\n",
              "      <td>19e2e</td>\n",
              "      <td>5d9dc897f7</td>\n",
              "      <td>1b5540c02d</td>\n",
              "      <td>972</td>\n",
              "      <td>BOUAKE</td>\n",
              "      <td>In Service</td>\n",
              "      <td>INTERIEUR</td>\n",
              "      <td>Grand-NORD</td>\n",
              "      <td>ZONE A - Grand-NORD</td>\n",
              "      <td>-5.027139</td>\n",
              "      <td>7.718417</td>\n",
              "      <td>VALLEE DU BANDAMA</td>\n",
              "      <td>CENTRE NORTH</td>\n",
              "      <td>24ccdda3d5</td>\n",
              "      <td>1b5540c02d</td>\n",
              "    </tr>\n",
              "    <tr>\n",
              "      <th>1</th>\n",
              "      <td>sms</td>\n",
              "      <td>0</td>\n",
              "      <td>2012-05-07 00:00:00.0</td>\n",
              "      <td>1</td>\n",
              "      <td>8118c3aa53d6c7b</td>\n",
              "      <td>1d103ea638ad1f0</td>\n",
              "      <td>19e2e</td>\n",
              "      <td>19e2e</td>\n",
              "      <td>5d9dc897f7</td>\n",
              "      <td>1b5540c02d</td>\n",
              "      <td>973</td>\n",
              "      <td>BOUAKE</td>\n",
              "      <td>In Service</td>\n",
              "      <td>INTERIEUR</td>\n",
              "      <td>Grand-NORD</td>\n",
              "      <td>ZONE A - Grand-NORD</td>\n",
              "      <td>-5.027139</td>\n",
              "      <td>7.718417</td>\n",
              "      <td>VALLEE DU BANDAMA</td>\n",
              "      <td>CENTRE NORTH</td>\n",
              "      <td>ebfc58af70</td>\n",
              "      <td>1b5540c02d</td>\n",
              "    </tr>\n",
              "    <tr>\n",
              "      <th>2</th>\n",
              "      <td>sms</td>\n",
              "      <td>0</td>\n",
              "      <td>2012-05-07 00:00:00.0</td>\n",
              "      <td>1</td>\n",
              "      <td>8118c3aa53d6c7b</td>\n",
              "      <td>1d103ea638ad1f0</td>\n",
              "      <td>19e2e</td>\n",
              "      <td>19e2e</td>\n",
              "      <td>5d9dc897f7</td>\n",
              "      <td>1b5540c02d</td>\n",
              "      <td>974</td>\n",
              "      <td>BOUAKE</td>\n",
              "      <td>In Service</td>\n",
              "      <td>INTERIEUR</td>\n",
              "      <td>Grand-NORD</td>\n",
              "      <td>ZONE A - Grand-NORD</td>\n",
              "      <td>-5.027139</td>\n",
              "      <td>7.718417</td>\n",
              "      <td>VALLEE DU BANDAMA</td>\n",
              "      <td>CENTRE NORTH</td>\n",
              "      <td>ba8ce6e4ef</td>\n",
              "      <td>1b5540c02d</td>\n",
              "    </tr>\n",
              "    <tr>\n",
              "      <th>3</th>\n",
              "      <td>sms</td>\n",
              "      <td>0</td>\n",
              "      <td>2012-05-07 00:00:00.0</td>\n",
              "      <td>1</td>\n",
              "      <td>8118c3aa53d6c7b</td>\n",
              "      <td>1d103ea638ad1f0</td>\n",
              "      <td>19e2e</td>\n",
              "      <td>19e2e</td>\n",
              "      <td>5d9dc897f7</td>\n",
              "      <td>1b5540c02d</td>\n",
              "      <td>975</td>\n",
              "      <td>BOUAKE</td>\n",
              "      <td>In Service</td>\n",
              "      <td>INTERIEUR</td>\n",
              "      <td>Grand-NORD</td>\n",
              "      <td>ZONE A - Grand-NORD</td>\n",
              "      <td>-5.027139</td>\n",
              "      <td>7.718417</td>\n",
              "      <td>VALLEE DU BANDAMA</td>\n",
              "      <td>CENTRE NORTH</td>\n",
              "      <td>c2545171dc</td>\n",
              "      <td>1b5540c02d</td>\n",
              "    </tr>\n",
              "    <tr>\n",
              "      <th>4</th>\n",
              "      <td>sms</td>\n",
              "      <td>0</td>\n",
              "      <td>2012-05-07 00:00:00.0</td>\n",
              "      <td>1</td>\n",
              "      <td>8118c3aa53d6c7b</td>\n",
              "      <td>1d103ea638ad1f0</td>\n",
              "      <td>19e2e</td>\n",
              "      <td>19e2e</td>\n",
              "      <td>5d9dc897f7</td>\n",
              "      <td>1b5540c02d</td>\n",
              "      <td>976</td>\n",
              "      <td>BOUAKE</td>\n",
              "      <td>In Service</td>\n",
              "      <td>INTERIEUR</td>\n",
              "      <td>Grand-NORD</td>\n",
              "      <td>ZONE A - Grand-NORD</td>\n",
              "      <td>-5.027139</td>\n",
              "      <td>7.718417</td>\n",
              "      <td>VALLEE DU BANDAMA</td>\n",
              "      <td>CENTRE NORTH</td>\n",
              "      <td>f15bd5483f</td>\n",
              "      <td>1b5540c02d</td>\n",
              "    </tr>\n",
              "    <tr>\n",
              "      <th>...</th>\n",
              "      <td>...</td>\n",
              "      <td>...</td>\n",
              "      <td>...</td>\n",
              "      <td>...</td>\n",
              "      <td>...</td>\n",
              "      <td>...</td>\n",
              "      <td>...</td>\n",
              "      <td>...</td>\n",
              "      <td>...</td>\n",
              "      <td>...</td>\n",
              "      <td>...</td>\n",
              "      <td>...</td>\n",
              "      <td>...</td>\n",
              "      <td>...</td>\n",
              "      <td>...</td>\n",
              "      <td>...</td>\n",
              "      <td>...</td>\n",
              "      <td>...</td>\n",
              "      <td>...</td>\n",
              "      <td>...</td>\n",
              "      <td>...</td>\n",
              "      <td>...</td>\n",
              "    </tr>\n",
              "    <tr>\n",
              "      <th>16274</th>\n",
              "      <td>Voice</td>\n",
              "      <td>0</td>\n",
              "      <td>2012-05-07 00:01:52.0</td>\n",
              "      <td>0</td>\n",
              "      <td>248de61e945d3a4</td>\n",
              "      <td>1a49f8b0ded9de6</td>\n",
              "      <td>19e2e</td>\n",
              "      <td>19e2e</td>\n",
              "      <td>d6abb7e15f</td>\n",
              "      <td>f72cd95f00</td>\n",
              "      <td>3054</td>\n",
              "      <td>SAMANGO</td>\n",
              "      <td>In Service</td>\n",
              "      <td>INTERIEUR</td>\n",
              "      <td>Grand-NORD</td>\n",
              "      <td>ZONE A - Grand-NORD</td>\n",
              "      <td>-7.732889</td>\n",
              "      <td>9.658833</td>\n",
              "      <td>DENGUELE</td>\n",
              "      <td>NORTH WEST</td>\n",
              "      <td>e899016a7d</td>\n",
              "      <td>f72cd95f00</td>\n",
              "    </tr>\n",
              "    <tr>\n",
              "      <th>16275</th>\n",
              "      <td>Voice</td>\n",
              "      <td>0</td>\n",
              "      <td>2012-05-07 00:01:52.0</td>\n",
              "      <td>0</td>\n",
              "      <td>248de61e945d3a4</td>\n",
              "      <td>1a49f8b0ded9de6</td>\n",
              "      <td>19e2e</td>\n",
              "      <td>19e2e</td>\n",
              "      <td>d6abb7e15f</td>\n",
              "      <td>f72cd95f00</td>\n",
              "      <td>3055</td>\n",
              "      <td>SAMANGO</td>\n",
              "      <td>In Service</td>\n",
              "      <td>INTERIEUR</td>\n",
              "      <td>Grand-NORD</td>\n",
              "      <td>ZONE A - Grand-NORD</td>\n",
              "      <td>-7.732889</td>\n",
              "      <td>9.658833</td>\n",
              "      <td>DENGUELE</td>\n",
              "      <td>NORTH WEST</td>\n",
              "      <td>f4271c1bc1</td>\n",
              "      <td>f72cd95f00</td>\n",
              "    </tr>\n",
              "    <tr>\n",
              "      <th>16276</th>\n",
              "      <td>Voice</td>\n",
              "      <td>1</td>\n",
              "      <td>2012-05-07 00:01:53.0</td>\n",
              "      <td>0</td>\n",
              "      <td>e3f0ab52004e8f8</td>\n",
              "      <td>804882ec3e5e4d9</td>\n",
              "      <td>19e2e</td>\n",
              "      <td>19e2e</td>\n",
              "      <td>0eaf635cdd</td>\n",
              "      <td>c644d1ce4c</td>\n",
              "      <td>3941</td>\n",
              "      <td>ZATTA</td>\n",
              "      <td>In Service</td>\n",
              "      <td>INTERIEUR</td>\n",
              "      <td>Grand-NORD</td>\n",
              "      <td>ZONE B - Grand-NORD</td>\n",
              "      <td>-5.415614</td>\n",
              "      <td>6.905422</td>\n",
              "      <td>LACS</td>\n",
              "      <td>CENTRE NORTH</td>\n",
              "      <td>1d41c565fc</td>\n",
              "      <td>c644d1ce4c</td>\n",
              "    </tr>\n",
              "    <tr>\n",
              "      <th>16277</th>\n",
              "      <td>Voice</td>\n",
              "      <td>1</td>\n",
              "      <td>2012-05-07 00:01:53.0</td>\n",
              "      <td>0</td>\n",
              "      <td>e3f0ab52004e8f8</td>\n",
              "      <td>804882ec3e5e4d9</td>\n",
              "      <td>19e2e</td>\n",
              "      <td>19e2e</td>\n",
              "      <td>0eaf635cdd</td>\n",
              "      <td>c644d1ce4c</td>\n",
              "      <td>3942</td>\n",
              "      <td>ZATTA</td>\n",
              "      <td>In Service</td>\n",
              "      <td>INTERIEUR</td>\n",
              "      <td>Grand-NORD</td>\n",
              "      <td>ZONE B - Grand-NORD</td>\n",
              "      <td>-5.415614</td>\n",
              "      <td>6.905422</td>\n",
              "      <td>LACS</td>\n",
              "      <td>CENTRE NORTH</td>\n",
              "      <td>eb42ca8859</td>\n",
              "      <td>c644d1ce4c</td>\n",
              "    </tr>\n",
              "    <tr>\n",
              "      <th>16278</th>\n",
              "      <td>Voice</td>\n",
              "      <td>1</td>\n",
              "      <td>2012-05-07 00:01:53.0</td>\n",
              "      <td>0</td>\n",
              "      <td>e3f0ab52004e8f8</td>\n",
              "      <td>804882ec3e5e4d9</td>\n",
              "      <td>19e2e</td>\n",
              "      <td>19e2e</td>\n",
              "      <td>0eaf635cdd</td>\n",
              "      <td>c644d1ce4c</td>\n",
              "      <td>3943</td>\n",
              "      <td>ZATTA</td>\n",
              "      <td>In Service</td>\n",
              "      <td>INTERIEUR</td>\n",
              "      <td>Grand-NORD</td>\n",
              "      <td>ZONE B - Grand-NORD</td>\n",
              "      <td>-5.415614</td>\n",
              "      <td>6.905422</td>\n",
              "      <td>LACS</td>\n",
              "      <td>CENTRE NORTH</td>\n",
              "      <td>7d655658f0</td>\n",
              "      <td>c644d1ce4c</td>\n",
              "    </tr>\n",
              "  </tbody>\n",
              "</table>\n",
              "<p>16279 rows × 22 columns</p>\n",
              "</div>"
            ],
            "text/plain": [
              "      PRODUTC  VALUE  ...   CELL_ID_y   SITE_CODE\n",
              "0         sms      0  ...  24ccdda3d5  1b5540c02d\n",
              "1         sms      0  ...  ebfc58af70  1b5540c02d\n",
              "2         sms      0  ...  ba8ce6e4ef  1b5540c02d\n",
              "3         sms      0  ...  c2545171dc  1b5540c02d\n",
              "4         sms      0  ...  f15bd5483f  1b5540c02d\n",
              "...       ...    ...  ...         ...         ...\n",
              "16274   Voice      0  ...  e899016a7d  f72cd95f00\n",
              "16275   Voice      0  ...  f4271c1bc1  f72cd95f00\n",
              "16276   Voice      1  ...  1d41c565fc  c644d1ce4c\n",
              "16277   Voice      1  ...  eb42ca8859  c644d1ce4c\n",
              "16278   Voice      1  ...  7d655658f0  c644d1ce4c\n",
              "\n",
              "[16279 rows x 22 columns]"
            ]
          },
          "metadata": {},
          "execution_count": 32
        }
      ]
    },
    {
      "cell_type": "code",
      "metadata": {
        "colab": {
          "base_uri": "https://localhost:8080/"
        },
        "id": "VOoWumY9xtOm",
        "outputId": "a9bbc70c-810a-49cf-e80b-4d93e7d14061"
      },
      "source": [
        "dayTwo_A = telcomDf1\n",
        "dayTwo_A = dayOne_A.drop_duplicates()\n",
        "dayTwo_Loc = cellsGeo\n",
        "dayTwo_loc = dayTwo_Loc.drop_duplicates()\n",
        "dayTwo_combines = pd.merge(dayTwo_A,dayTwo_Loc, left_on='SITE_ID', right_on='SITE_CODE')\n",
        "\n",
        "\n",
        "dayTwo_combinesValue = dayTwo_combines['VALUE'].sum()\n",
        "dayTwo_combinesValue\n"
      ],
      "execution_count": 27,
      "outputs": [
        {
          "output_type": "execute_result",
          "data": {
            "text/plain": [
              "475423"
            ]
          },
          "metadata": {},
          "execution_count": 27
        }
      ]
    },
    {
      "cell_type": "code",
      "metadata": {
        "colab": {
          "base_uri": "https://localhost:8080/"
        },
        "id": "hfEpqArYx_qv",
        "outputId": "9da09f03-229d-4a16-9faa-bff65a5896b0"
      },
      "source": [
        "dayThree_A = telcomDf1\n",
        "dayThree_A = dayThree_A.drop_duplicates()\n",
        "dayThree_B = cellsGeo\n",
        "dayThree_B = dayThree_B.drop_duplicates()\n",
        "dayThree_combines = pd.merge(dayThree_A,dayThree_B, left_on='SITE_ID', right_on='SITE_CODE')\n",
        "\n",
        "dayThree_combinesValue = dayThree_combines['VALUE'].sum()\n",
        "dayThree_combinesValue"
      ],
      "execution_count": 26,
      "outputs": [
        {
          "output_type": "execute_result",
          "data": {
            "text/plain": [
              "475423"
            ]
          },
          "metadata": {},
          "execution_count": 26
        }
      ]
    },
    {
      "cell_type": "code",
      "metadata": {
        "colab": {
          "base_uri": "https://localhost:8080/"
        },
        "id": "BKG3T2m8fdcZ",
        "outputId": "c5dcbeb3-6389-4d99-d814-06a0818ef0a3"
      },
      "source": [
        "print(\"The total value from communications on day one is: \",dayOne_combinesValue,\" And the second day's total is : \",dayTwo_combinesValue, \"  and the third day's total value is: \",dayThree_combinesValue)"
      ],
      "execution_count": 33,
      "outputs": [
        {
          "output_type": "stream",
          "name": "stdout",
          "text": [
            "The total value from communications on day one is:  475423  And the second day's total is :  475423   and the third day's total value is:  475423\n"
          ]
        }
      ]
    },
    {
      "cell_type": "markdown",
      "metadata": {
        "id": "xM-46ZhRkjVT"
      },
      "source": [
        "I will begin by dropping the columns that increase the noise"
      ]
    },
    {
      "cell_type": "code",
      "metadata": {
        "colab": {
          "base_uri": "https://localhost:8080/"
        },
        "id": "8IuBz2TPly9R",
        "outputId": "b473c4c6-ead0-4b5b-eb56-69e05ffa6a66"
      },
      "source": [
        "#This list shows how many individual phones are in a particular city for day 1\n",
        "dayOne = dayOne_combines[['VILLES','CELL_ID_x','STATUS','LOCALISATION','DECOUPZONE','ZONENAME','REGION','AREA']]\n",
        "groupCityDay1 = dayOne['CELL_ID_x'].groupby(dayOne['VILLES'])\n",
        "groupCityDay1.size()"
      ],
      "execution_count": 53,
      "outputs": [
        {
          "output_type": "execute_result",
          "data": {
            "text/plain": [
              "VILLES\n",
              "ABENGOUROU            69\n",
              "ABOBO               1993\n",
              "ABOISSO               24\n",
              "ABOISSO COMOE          6\n",
              "ABOUDEKOUASSIKRO      15\n",
              "                    ... \n",
              "ZATTA                  3\n",
              "ZIKISSO               12\n",
              "ZON-HOUNIEN            6\n",
              "ZOUKOUGBEU             6\n",
              "ZUENOULA              69\n",
              "Name: CELL_ID_x, Length: 306, dtype: int64"
            ]
          },
          "metadata": {},
          "execution_count": 53
        }
      ]
    },
    {
      "cell_type": "code",
      "metadata": {
        "colab": {
          "base_uri": "https://localhost:8080/"
        },
        "id": "l2pCN6Tp8bhj",
        "outputId": "4eea0b46-8258-4bae-ea2f-385cdcc1ccd7"
      },
      "source": [
        "#This list shows how many individual phones are in a particular city for day 2\n",
        "dayTwo = dayTwo_combines[['VILLES','CELL_ID_x','STATUS','LOCALISATION','DECOUPZONE','ZONENAME','REGION','AREA']]\n",
        "groupCityDay2 = dayTwo['CELL_ID_x'].groupby(dayTwo['VILLES'])\n",
        "groupCityDay2.size()"
      ],
      "execution_count": 54,
      "outputs": [
        {
          "output_type": "execute_result",
          "data": {
            "text/plain": [
              "VILLES\n",
              "ABENGOUROU            69\n",
              "ABOBO               1993\n",
              "ABOISSO               24\n",
              "ABOISSO COMOE          6\n",
              "ABOUDEKOUASSIKRO      15\n",
              "                    ... \n",
              "ZATTA                  3\n",
              "ZIKISSO               12\n",
              "ZON-HOUNIEN            6\n",
              "ZOUKOUGBEU             6\n",
              "ZUENOULA              69\n",
              "Name: CELL_ID_x, Length: 306, dtype: int64"
            ]
          },
          "metadata": {},
          "execution_count": 54
        }
      ]
    },
    {
      "cell_type": "code",
      "metadata": {
        "colab": {
          "base_uri": "https://localhost:8080/"
        },
        "id": "YgmUuJ4P6U8p",
        "outputId": "7d4fdf07-e9fa-4466-ea0f-4c2265d7b518"
      },
      "source": [
        "#This list shows how many individual phones are in a particular city for day 3\n",
        "dayThree = dayThree_combines[['VILLES','CELL_ID_x','STATUS','LOCALISATION','DECOUPZONE','ZONENAME','REGION','AREA']]\n",
        "groupCityDay3 = dayThree['CELL_ID_x'].groupby(dayThree['VILLES'])\n",
        "groupCityDay3.size()"
      ],
      "execution_count": 52,
      "outputs": [
        {
          "output_type": "execute_result",
          "data": {
            "text/plain": [
              "VILLES\n",
              "ABENGOUROU            69\n",
              "ABOBO               1993\n",
              "ABOISSO               24\n",
              "ABOISSO COMOE          6\n",
              "ABOUDEKOUASSIKRO      15\n",
              "                    ... \n",
              "ZATTA                  3\n",
              "ZIKISSO               12\n",
              "ZON-HOUNIEN            6\n",
              "ZOUKOUGBEU             6\n",
              "ZUENOULA              69\n",
              "Name: CELL_ID_x, Length: 306, dtype: int64"
            ]
          },
          "metadata": {},
          "execution_count": 52
        }
      ]
    },
    {
      "cell_type": "markdown",
      "metadata": {
        "id": "e_G5TKd6-pqi"
      },
      "source": [
        "The next steps is to order the three day dataset into descending order of cell phone density per city. Thats a priority list of which have the most users and should be focused first. Upgrading denser areas allows us to generate more revnue from these areas and use the incremetal funds to upgrade the less desnse are thenafer. If the days are similiar in all 3 days those are consistently used areas\n"
      ]
    },
    {
      "cell_type": "code",
      "metadata": {
        "id": "l2dWnZHaGOa-",
        "colab": {
          "base_uri": "https://localhost:8080/"
        },
        "outputId": "e4df2860-7536-46b8-b833-138068bdd274"
      },
      "source": [
        "#adding the size of \n",
        "#dayOne.sort_values(['CELL_ID_x','VILLES'], ascending= False).groupby('VILLES').first()\n",
        "dayOne['VILLES'].describe()                                                                                  "
      ],
      "execution_count": 59,
      "outputs": [
        {
          "output_type": "execute_result",
          "data": {
            "text/plain": [
              "count        16279\n",
              "unique         306\n",
              "top       YOPOUGON\n",
              "freq          2686\n",
              "Name: VILLES, dtype: object"
            ]
          },
          "metadata": {},
          "execution_count": 59
        }
      ]
    },
    {
      "cell_type": "code",
      "metadata": {
        "colab": {
          "base_uri": "https://localhost:8080/"
        },
        "id": "MZVWAM2O_ypF",
        "outputId": "4eb2be6e-6bc8-4fa9-8994-5a1875711714"
      },
      "source": [
        "#Ordered list of day 1 based on phone population density per city\n",
        "groupCityDay1.size().sort_values(ascending = False)"
      ],
      "execution_count": 62,
      "outputs": [
        {
          "output_type": "execute_result",
          "data": {
            "text/plain": [
              "VILLES\n",
              "YOPOUGON        2686\n",
              "ABOBO           1993\n",
              "COCODY          1062\n",
              "YAMOUSSOUKRO     831\n",
              "ADJAME           797\n",
              "                ... \n",
              "LATAHA             3\n",
              "DJENIDOUFLA        3\n",
              "DJOUKOUYO          3\n",
              "SAMATIGUILA        3\n",
              "KOTOULA            2\n",
              "Name: CELL_ID_x, Length: 306, dtype: int64"
            ]
          },
          "metadata": {},
          "execution_count": 62
        }
      ]
    },
    {
      "cell_type": "code",
      "metadata": {
        "colab": {
          "base_uri": "https://localhost:8080/"
        },
        "id": "TeQ1FRGrCOI-",
        "outputId": "06f28f05-cfad-46a0-a151-25a54e8007a1"
      },
      "source": [
        "#Ordered list of day 2 based on phone population density per city\n",
        "groupCityDay2.size().sort_values(ascending = False)"
      ],
      "execution_count": 61,
      "outputs": [
        {
          "output_type": "execute_result",
          "data": {
            "text/plain": [
              "VILLES\n",
              "YOPOUGON        2686\n",
              "ABOBO           1993\n",
              "COCODY          1062\n",
              "YAMOUSSOUKRO     831\n",
              "ADJAME           797\n",
              "                ... \n",
              "LATAHA             3\n",
              "DJENIDOUFLA        3\n",
              "DJOUKOUYO          3\n",
              "SAMATIGUILA        3\n",
              "KOTOULA            2\n",
              "Name: CELL_ID_x, Length: 306, dtype: int64"
            ]
          },
          "metadata": {},
          "execution_count": 61
        }
      ]
    },
    {
      "cell_type": "code",
      "metadata": {
        "colab": {
          "base_uri": "https://localhost:8080/"
        },
        "id": "oauzPOnrCXZl",
        "outputId": "8ee79195-60aa-4438-b6ce-802cee47c390"
      },
      "source": [
        "#Ordered list of day 3 based on phone population density per city\n",
        "groupCityDay3.size().sort_values(ascending = False)"
      ],
      "execution_count": 63,
      "outputs": [
        {
          "output_type": "execute_result",
          "data": {
            "text/plain": [
              "VILLES\n",
              "YOPOUGON        2686\n",
              "ABOBO           1993\n",
              "COCODY          1062\n",
              "YAMOUSSOUKRO     831\n",
              "ADJAME           797\n",
              "                ... \n",
              "LATAHA             3\n",
              "DJENIDOUFLA        3\n",
              "DJOUKOUYO          3\n",
              "SAMATIGUILA        3\n",
              "KOTOULA            2\n",
              "Name: CELL_ID_x, Length: 306, dtype: int64"
            ]
          },
          "metadata": {},
          "execution_count": 63
        }
      ]
    },
    {
      "cell_type": "code",
      "metadata": {
        "id": "iAmyz2rLCY08"
      },
      "source": [
        ""
      ],
      "execution_count": null,
      "outputs": []
    }
  ]
}